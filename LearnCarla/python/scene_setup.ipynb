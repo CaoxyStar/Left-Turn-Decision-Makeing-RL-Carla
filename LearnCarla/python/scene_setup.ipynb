{
 "cells": [
  {
   "cell_type": "code",
   "execution_count": 1,
   "metadata": {},
   "outputs": [],
   "source": [
    "import carla\n",
    "import random"
   ]
  },
  {
   "cell_type": "code",
   "execution_count": 2,
   "metadata": {},
   "outputs": [],
   "source": [
    "client = carla.Client('localhost', 2000)\n",
    "client.load_world('Town05')\n",
    "\n",
    "world = client.get_world()\n",
    "spectator = world.get_spectator()\n",
    "map = world.get_map()\n",
    "vehicle_bps = world.get_blueprint_library().filter('*vehicle*')"
   ]
  },
  {
   "cell_type": "code",
   "execution_count": 3,
   "metadata": {},
   "outputs": [
    {
     "name": "stdout",
     "output_type": "stream",
     "text": [
      "vehicle.audi.a2\n",
      "vehicle.citroen.c3\n",
      "vehicle.chevrolet.impala\n",
      "vehicle.dodge.charger_police_2020\n",
      "vehicle.micro.microlino\n",
      "vehicle.dodge.charger_police\n",
      "vehicle.audi.tt\n",
      "vehicle.jeep.wrangler_rubicon\n",
      "vehicle.mercedes.coupe\n",
      "vehicle.mercedes.coupe_2020\n",
      "vehicle.harley-davidson.low_rider\n",
      "vehicle.dodge.charger_2020\n",
      "vehicle.ford.ambulance\n",
      "vehicle.lincoln.mkz_2020\n",
      "vehicle.mini.cooper_s_2021\n",
      "vehicle.toyota.prius\n",
      "vehicle.ford.crown\n",
      "vehicle.carlamotors.carlacola\n",
      "vehicle.vespa.zx125\n",
      "vehicle.nissan.patrol_2021\n",
      "vehicle.mercedes.sprinter\n",
      "vehicle.audi.etron\n",
      "vehicle.seat.leon\n",
      "vehicle.volkswagen.t2_2021\n",
      "vehicle.tesla.cybertruck\n",
      "vehicle.lincoln.mkz_2017\n",
      "vehicle.ford.mustang\n",
      "vehicle.carlamotors.firetruck\n",
      "vehicle.volkswagen.t2\n",
      "vehicle.mitsubishi.fusorosa\n",
      "vehicle.tesla.model3\n",
      "vehicle.diamondback.century\n",
      "vehicle.gazelle.omafiets\n",
      "vehicle.bmw.grandtourer\n",
      "vehicle.bh.crossbike\n",
      "vehicle.kawasaki.ninja\n",
      "vehicle.nissan.patrol\n",
      "vehicle.nissan.micra\n",
      "vehicle.mini.cooper_s\n",
      "vehicle.yamaha.yzf\n"
     ]
    }
   ],
   "source": [
    "for i in range(len(vehicle_bps)):\n",
    "    print(vehicle_bps[i].id)"
   ]
  },
  {
   "cell_type": "code",
   "execution_count": 4,
   "metadata": {},
   "outputs": [],
   "source": [
    "spectator_transform = carla.Transform()\n",
    "spectator_transform.location.x = 25\n",
    "spectator_transform.location.y = 90\n",
    "spectator_transform.location.z = 40\n",
    "spectator_transform.rotation.pitch = -90\n",
    "spectator_transform.rotation.yaw = 90\n",
    "spectator_transform.rotation.roll = 0\n",
    "spectator.set_transform(spectator_transform)"
   ]
  },
  {
   "cell_type": "code",
   "execution_count": 5,
   "metadata": {},
   "outputs": [
    {
     "name": "stdout",
     "output_type": "stream",
     "text": [
      "Transform(Location(x=25.000000, y=90.000000, z=40.000000), Rotation(pitch=-88.998474, yaw=7.125363, roll=82.872879))\n"
     ]
    }
   ],
   "source": [
    "print(spectator.get_transform())"
   ]
  },
  {
   "cell_type": "code",
   "execution_count": 7,
   "metadata": {},
   "outputs": [],
   "source": [
    "vehicle_ego_bp = vehicle_bps.find('vehicle.mercedes.coupe')\n",
    "location = carla.Location()\n",
    "location.x = 28\n",
    "location.y = 65\n",
    "location.z = 0\n",
    "ego_waypoint = map.get_waypoint(location, project_to_road=True, lane_type=carla.LaneType.Driving)\n",
    "vehicle_ego = world.spawn_actor(vehicle_ego_bp, random.choice(map.get_spawn_points()))\n",
    "vehicle_ego.set_transform(ego_waypoint.transform)"
   ]
  },
  {
   "cell_type": "code",
   "execution_count": 7,
   "metadata": {},
   "outputs": [
    {
     "name": "stdout",
     "output_type": "stream",
     "text": [
      "Location(x=44.999920, y=85.033379, z=0.141572)\n"
     ]
    },
    {
     "ename": "",
     "evalue": "",
     "output_type": "error",
     "traceback": [
      "\u001b[1;31mThe Kernel crashed while executing code in the current cell or a previous cell. \n",
      "\u001b[1;31mPlease review the code in the cell(s) to identify a possible cause of the failure. \n",
      "\u001b[1;31mClick <a href='https://aka.ms/vscodeJupyterKernelCrash'>here</a> for more info. \n",
      "\u001b[1;31mView Jupyter <a href='command:jupyter.viewOutput'>log</a> for further details."
     ]
    }
   ],
   "source": [
    "print(vehicle_ego.get_location())"
   ]
  },
  {
   "cell_type": "code",
   "execution_count": 7,
   "metadata": {},
   "outputs": [
    {
     "data": {
      "text/plain": [
       "True"
      ]
     },
     "execution_count": 7,
     "metadata": {},
     "output_type": "execute_result"
    },
    {
     "ename": "",
     "evalue": "",
     "output_type": "error",
     "traceback": [
      "\u001b[1;31mThe Kernel crashed while executing code in the current cell or a previous cell. \n",
      "\u001b[1;31mPlease review the code in the cell(s) to identify a possible cause of the failure. \n",
      "\u001b[1;31mClick <a href='https://aka.ms/vscodeJupyterKernelCrash'>here</a> for more info. \n",
      "\u001b[1;31mView Jupyter <a href='command:jupyter.viewOutput'>log</a> for further details."
     ]
    }
   ],
   "source": [
    "vehicle_ego.destroy()\n"
   ]
  },
  {
   "cell_type": "code",
   "execution_count": 47,
   "metadata": {},
   "outputs": [
    {
     "name": "stdout",
     "output_type": "stream",
     "text": [
      "Spawned 4 cars on left lane and 2 cars on right lane\n"
     ]
    }
   ],
   "source": [
    "left_car_num = random.randint(2, 5)\n",
    "right_car_num = random.randint(2, 5)\n",
    "\n",
    "vehicle_auto_bp = vehicle_bps.find('vehicle.audi.a2')\n",
    "\n",
    "location = carla.Location()\n",
    "location.x = 30\n",
    "location.y = 105\n",
    "location.z = 0\n",
    "\n",
    "for i in range(left_car_num):\n",
    "    auto_waypoint = map.get_waypoint(location, project_to_road=True, lane_type=carla.LaneType.Driving)\n",
    "    vehicle_auto = world.spawn_actor(vehicle_auto_bp, random.choice(map.get_spawn_points()))\n",
    "    vehicle_auto.set_transform(auto_waypoint.transform)\n",
    "    location.y = location.y + 7\n",
    "\n",
    "location.x = 35\n",
    "location.y = 105\n",
    "\n",
    "for i in range(right_car_num):\n",
    "    auto_waypoint = map.get_waypoint(location, project_to_road=True, lane_type=carla.LaneType.Driving)\n",
    "    vehicle_auto = world.spawn_actor(vehicle_auto_bp, random.choice(map.get_spawn_points()))\n",
    "    vehicle_auto.set_transform(auto_waypoint.transform)\n",
    "    location.y = location.y + 7\n",
    "\n",
    "print(\"Spawned {} cars on left lane and {} cars on right lane\".format(left_car_num, right_car_num))"
   ]
  },
  {
   "cell_type": "code",
   "execution_count": null,
   "metadata": {},
   "outputs": [],
   "source": []
  },
  {
   "cell_type": "code",
   "execution_count": 12,
   "metadata": {},
   "outputs": [],
   "source": [
    "traffic_lights = world.get_actors().filter('traffic.traffic_light')\n",
    "for traffic_light in traffic_lights:\n",
    "    # 设置信号灯状态为绿灯\n",
    "    traffic_light.set_state(carla.TrafficLightState.Green)\n",
    "        \n",
    "    # 可选：锁定信号灯状态，使其保持不变\n",
    "    traffic_light.freeze(True)"
   ]
  },
  {
   "cell_type": "code",
   "execution_count": 3,
   "metadata": {},
   "outputs": [
    {
     "ename": "",
     "evalue": "",
     "output_type": "error",
     "traceback": [
      "\u001b[1;31mThe Kernel crashed while executing code in the current cell or a previous cell. \n",
      "\u001b[1;31mPlease review the code in the cell(s) to identify a possible cause of the failure. \n",
      "\u001b[1;31mClick <a href='https://aka.ms/vscodeJupyterKernelCrash'>here</a> for more info. \n",
      "\u001b[1;31mView Jupyter <a href='command:jupyter.viewOutput'>log</a> for further details."
     ]
    }
   ],
   "source": [
    "for vehicle in world.get_actors().filter('*vehicle*'):\n",
    "    vehicle.destroy()"
   ]
  },
  {
   "cell_type": "code",
   "execution_count": 22,
   "metadata": {},
   "outputs": [
    {
     "name": "stdout",
     "output_type": "stream",
     "text": [
      "Location(x=35.088093, y=60.000034, z=-0.010798)\n"
     ]
    }
   ],
   "source": [
    "print(vehicle_auto.get_location())"
   ]
  },
  {
   "cell_type": "code",
   "execution_count": 26,
   "metadata": {},
   "outputs": [
    {
     "name": "stdout",
     "output_type": "stream",
     "text": [
      "Location(x=28.085684, y=66.036179, z=-0.008131)\n"
     ]
    },
    {
     "ename": "",
     "evalue": "",
     "output_type": "error",
     "traceback": [
      "\u001b[1;31mThe Kernel crashed while executing code in the current cell or a previous cell. \n",
      "\u001b[1;31mPlease review the code in the cell(s) to identify a possible cause of the failure. \n",
      "\u001b[1;31mClick <a href='https://aka.ms/vscodeJupyterKernelCrash'>here</a> for more info. \n",
      "\u001b[1;31mView Jupyter <a href='command:jupyter.viewOutput'>log</a> for further details."
     ]
    }
   ],
   "source": [
    "print(vehicle_ego.get_location())"
   ]
  },
  {
   "cell_type": "code",
   "execution_count": null,
   "metadata": {},
   "outputs": [],
   "source": []
  }
 ],
 "metadata": {
  "kernelspec": {
   "display_name": "carla",
   "language": "python",
   "name": "python3"
  },
  "language_info": {
   "codemirror_mode": {
    "name": "ipython",
    "version": 3
   },
   "file_extension": ".py",
   "mimetype": "text/x-python",
   "name": "python",
   "nbconvert_exporter": "python",
   "pygments_lexer": "ipython3",
   "version": "3.8.18"
  }
 },
 "nbformat": 4,
 "nbformat_minor": 2
}
